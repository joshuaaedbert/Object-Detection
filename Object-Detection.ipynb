{
  "nbformat": 4,
  "nbformat_minor": 0,
  "metadata": {
    "accelerator": "GPU",
    "colab": {
      "name": "object_detection.ipynb",
      "provenance": [],
      "collapsed_sections": []
    },
    "interpreter": {
      "hash": "aee8b7b246df8f9039afb4144a1f6fd8d2ca17a180786b69acc140d282b71a49"
    },
    "kernelspec": {
      "display_name": "Python 3",
      "language": "python",
      "name": "python3"
    },
    "language_info": {
      "codemirror_mode": {
        "name": "ipython",
        "version": 3
      },
      "file_extension": ".py",
      "mimetype": "text/x-python",
      "name": "python",
      "nbconvert_exporter": "python",
      "pygments_lexer": "ipython3",
      "version": "3.9.7"
    }
  },
  "cells": [
    {
      "cell_type": "markdown",
      "metadata": {
        "id": "K4XLqDpr9B5U"
      },
      "source": [
        "README\n",
        "\n",
        "* For re-training, simply run all of the cells below.   \n",
        "* Our report is located at the bottom-most of the notebook. \n"
      ]
    },
    {
      "cell_type": "code",
      "metadata": {
        "id": "qo1NYJwsuymt"
      },
      "source": [
        "classes_name = [\"aeroplane\", \"bicycle\", \"bird\", \"boat\", \"bottle\", \n",
        "                \"bus\", \"car\", \"cat\", \"chair\", \"cow\", \"diningtable\", \n",
        "                \"dog\", \"horse\", \"motorbike\", \"person\", \"pottedplant\", \n",
        "                \"sheep\", \"sofa\", \"train\", \"tvmonitor\"]"
      ],
      "execution_count": null,
      "outputs": []
    },
    {
      "cell_type": "code",
      "metadata": {
        "colab": {
          "base_uri": "https://localhost:8080/"
        },
        "id": "j9bySqFDwtB6",
        "outputId": "e37fbe57-017e-47d3-cbbf-7893dc06a422"
      },
      "source": [
        "training_data_file = open(\"./datalab-2021-cup2-object-detection/pascal_voc_training_data.txt\", \"r\")\n",
        "\n",
        "for i, line in enumerate(training_data_file):\n",
        "    if i >5:\n",
        "        break\n",
        "    line = line.strip()\n",
        "    print(line)"
      ],
      "execution_count": null,
      "outputs": [
        {
          "name": "stdout",
          "output_type": "stream",
          "text": [
            "000005.jpg 263 211 324 339 8 165 264 253 372 8 5 244 67 374 8 241 194 295 299 8 277 186 312 220 8\n",
            "000007.jpg 141 50 500 330 6\n",
            "000009.jpg 69 172 270 330 12 150 141 229 284 14 285 201 327 331 14 258 198 297 329 14\n",
            "000012.jpg 156 97 351 270 6\n",
            "000016.jpg 92 72 305 473 1\n",
            "000017.jpg 185 62 279 199 14 90 78 403 336 12\n"
          ]
        }
      ]
    },
    {
      "cell_type": "markdown",
      "metadata": {
        "id": "X-pXVaoPw4ze"
      },
      "source": [
        "Suggestion: Reshape images and ground truth bounding boxes' coordinates into the same size."
      ]
    },
    {
      "cell_type": "code",
      "metadata": {
        "id": "Yrw74cbyuaLN"
      },
      "source": [
        "import tensorflow as tf\n",
        "import numpy as np"
      ],
      "execution_count": null,
      "outputs": []
    },
    {
      "cell_type": "code",
      "metadata": {
        "colab": {
          "base_uri": "https://localhost:8080/"
        },
        "id": "zqYfmw4QwGiy",
        "outputId": "5d11fe5b-2936-42ef-b916-3950e079ad61"
      },
      "source": [
        "gpus = tf.config.experimental.list_physical_devices('GPU')\n",
        "if gpus:\n",
        "    try:\n",
        "        # Currently, memory growth needs to be the same across GPUs\n",
        "        for gpu in gpus:\n",
        "            tf.config.experimental.set_memory_growth(gpu, True)\n",
        "        # Select GPU number 1\n",
        "        tf.config.experimental.set_visible_devices(gpus[0], 'GPU')\n",
        "        logical_gpus = tf.config.experimental.list_logical_devices('GPU')\n",
        "        print(len(gpus), \"Physical GPUs,\", len(logical_gpus), \"Logical GPUs\")\n",
        "    except RuntimeError as e:\n",
        "        # Memory growth must be set before GPUs have been initialized\n",
        "        print(e)"
      ],
      "execution_count": null,
      "outputs": [
        {
          "name": "stdout",
          "output_type": "stream",
          "text": [
            "1 Physical GPUs, 1 Logical GPUs\n"
          ]
        }
      ]
    },
    {
      "cell_type": "code",
      "metadata": {
        "id": "nd8znOz9wiv5"
      },
      "source": [
        "# common params\n",
        "IMAGE_SIZE = 448\n",
        "BATCH_SIZE = 16\n",
        "NUM_CLASSES = 20\n",
        "MAX_OBJECTS_PER_IMAGE = 20\n",
        "\n",
        "# dataset params\n",
        "DATA_PATH = './datalab-2021-cup2-object-detection/pascal_voc_training_data.txt'\n",
        "IMAGE_DIR = './datalab-2021-cup2-object-detection/VOCdevkit_train/VOC2007/JPEGImages/'\n",
        "\n",
        "# model params\n",
        "CELL_SIZE = 7\n",
        "BOXES_PER_CELL = 2\n",
        "OBJECT_SCALE = 1\n",
        "NOOBJECT_SCALE = 0.5\n",
        "CLASS_SCALE = 1\n",
        "COORD_SCALE = 5\n",
        "\n",
        "# training params\n",
        "LEARNING_RATE = 1e-4\n",
        "EPOCHS = 60"
      ],
      "execution_count": null,
      "outputs": []
    },
    {
      "cell_type": "markdown",
      "metadata": {
        "id": "lbhbVG_8xtDZ"
      },
      "source": [
        "## Dataset Loader"
      ]
    },
    {
      "cell_type": "code",
      "metadata": {
        "id": "mNMP0ueIxraG"
      },
      "source": [
        "class DatasetGenerator:\n",
        "    \"\"\"\n",
        "    Load pascalVOC 2007 dataset and creates an input pipeline.\n",
        "    - Reshapes images into 448 x 448\n",
        "    - converts [0 1] to [-1 1]\n",
        "    - shuffles the input\n",
        "    - builds batches\n",
        "    \"\"\"\n",
        "\n",
        "    def __init__(self):\n",
        "        self.image_names = []\n",
        "        self.record_list = []\n",
        "        self.object_num_list = []\n",
        "        # filling the record_list\n",
        "        input_file = open(DATA_PATH, 'r')\n",
        "\n",
        "        for line in input_file:\n",
        "            line = line.strip()\n",
        "            ss = line.split(' ')\n",
        "            self.image_names.append(ss[0])\n",
        "\n",
        "            self.record_list.append([float(num) for num in ss[1:]])\n",
        "\n",
        "            self.object_num_list.append(min(len(self.record_list[-1])//5, \n",
        "                                            MAX_OBJECTS_PER_IMAGE))\n",
        "            if len(self.record_list[-1]) < MAX_OBJECTS_PER_IMAGE*5:\n",
        "                # if there are objects less than MAX_OBJECTS_PER_IMAGE, pad the list\n",
        "                self.record_list[-1] = self.record_list[-1] +\\\n",
        "                [0., 0., 0., 0., 0.]*\\\n",
        "                (MAX_OBJECTS_PER_IMAGE-len(self.record_list[-1])//5)\n",
        "                \n",
        "            elif len(self.record_list[-1]) > MAX_OBJECTS_PER_IMAGE*5:\n",
        "               # if there are objects more than MAX_OBJECTS_PER_IMAGE, crop the list\n",
        "                self.record_list[-1] = self.record_list[-1][:MAX_OBJECTS_PER_IMAGE*5]\n",
        "\n",
        "    def _data_preprocess(self, image_name, raw_labels, object_num):\n",
        "        image_file = tf.io.read_file(IMAGE_DIR+image_name)\n",
        "        image = tf.io.decode_jpeg(image_file, channels=3)\n",
        "\n",
        "        h = tf.shape(image)[0]\n",
        "        w = tf.shape(image)[1]\n",
        "\n",
        "        width_ratio  = IMAGE_SIZE * 1.0 / tf.cast(w, tf.float32) \n",
        "        height_ratio = IMAGE_SIZE * 1.0 / tf.cast(h, tf.float32) \n",
        "\n",
        "        image = tf.image.resize(image, size=[IMAGE_SIZE, IMAGE_SIZE])\n",
        "        # image = (image/255) * 2 - 1\n",
        "        image = image/255.0\n",
        "        # image = tf.keras.applications.vgg16.preprocess_input(image)\n",
        "\n",
        "        raw_labels = tf.cast(tf.reshape(raw_labels, [-1, 5]), tf.float32)\n",
        "\n",
        "        xmin = raw_labels[:, 0]\n",
        "        ymin = raw_labels[:, 1]\n",
        "        xmax = raw_labels[:, 2]\n",
        "        ymax = raw_labels[:, 3]\n",
        "        class_num = raw_labels[:, 4]\n",
        "\n",
        "        xcenter = (xmin + xmax) * 1.0 / 2.0 * width_ratio\n",
        "        ycenter = (ymin + ymax) * 1.0 / 2.0 * height_ratio\n",
        "\n",
        "        box_w = (xmax - xmin) * width_ratio\n",
        "        box_h = (ymax - ymin) * height_ratio\n",
        "\n",
        "        labels = tf.stack([xcenter, ycenter, box_w, box_h, class_num], axis=1)\n",
        "\n",
        "        return image, labels, tf.cast(object_num, tf.int32)\n",
        "\n",
        "    def generate(self):\n",
        "        dataset = tf.data.Dataset.from_tensor_slices((self.image_names, \n",
        "                                                      np.array(self.record_list), \n",
        "                                                      np.array(self.object_num_list)))\n",
        "        dataset = dataset.shuffle(100000)\n",
        "        dataset = dataset.map(self._data_preprocess, \n",
        "                              num_parallel_calls = tf.data.experimental.AUTOTUNE)\n",
        "        dataset = dataset.batch(BATCH_SIZE)\n",
        "        dataset = dataset.prefetch(buffer_size=200)\n",
        "\n",
        "        return dataset"
      ],
      "execution_count": null,
      "outputs": []
    },
    {
      "cell_type": "markdown",
      "metadata": {
        "id": "UnxjFrIeyWrJ"
      },
      "source": [
        "## YOLO"
      ]
    },
    {
      "cell_type": "code",
      "metadata": {
        "id": "F0WQ9tJ4yVwZ"
      },
      "source": [
        "from tensorflow import keras\n",
        "from tensorflow.keras import layers"
      ],
      "execution_count": null,
      "outputs": []
    },
    {
      "cell_type": "code",
      "metadata": {
        "id": "814m_EKrzLd1"
      },
      "source": [
        "def conv_leaky_relu(inputs, filters, size, stride):\n",
        "    x = layers.Conv2D(filters, size, stride, padding=\"same\",\n",
        "                      kernel_initializer=tf.keras.initializers.TruncatedNormal())(inputs)\n",
        "    x = layers.LeakyReLU(0.1)(x)\n",
        "\n",
        "    return x"
      ],
      "execution_count": null,
      "outputs": []
    },
    {
      "cell_type": "code",
      "metadata": {
        "id": "gerYPnEqbkPD"
      },
      "source": [
        "def vgg16_layers(layer_names):\n",
        "    \"\"\" Creates a vgg model that returns a list of intermediate output values.\"\"\"\n",
        "    # Load our model. Load pretrained VGG, trained on imagenet data\n",
        "    vgg = tf.keras.applications.VGG16(include_top=False, weights='imagenet', input_shape=(448, 448, 3))\n",
        "    vgg.trainable = False\n",
        "\n",
        "    outputs = [vgg.get_layer(name).output for name in layer_names]\n",
        "\n",
        "    model = tf.keras.Model([vgg.input], outputs)\n",
        "    return model"
      ],
      "execution_count": null,
      "outputs": []
    },
    {
      "cell_type": "code",
      "metadata": {
        "id": "8wjmpHYv1NuE",
        "outputId": "51211503-75af-4aea-d216-c1c3e8c56aa8"
      },
      "source": [
        "img_inputs = keras.Input(shape=(IMAGE_SIZE, IMAGE_SIZE, 3))\n",
        "\n",
        "vgg16_conv = vgg16_layers(['block5_pool'])\n",
        "output_vgg16_conv = vgg16_conv(img_inputs)\n",
        "\n",
        "x = layers.BatchNormalization()(output_vgg16_conv)\n",
        "\n",
        "x = conv_leaky_relu(x, 512, 1, 1)\n",
        "x = conv_leaky_relu(x, 1024, 3, 1)\n",
        "x = conv_leaky_relu(x, 512, 1, 1)\n",
        "x = conv_leaky_relu(x, 1024, 3, 1)\n",
        "x = conv_leaky_relu(x, 1024, 3, 1)\n",
        "x = conv_leaky_relu(x, 1024, 3, 2)\n",
        "x = conv_leaky_relu(x, 1024, 3, 1)\n",
        "x = conv_leaky_relu(x, 1024, 3, 1)\n",
        "\n",
        "x = layers.BatchNormalization()(x)\n",
        "x = conv_leaky_relu(x, 512, 1, 1)\n",
        "x = conv_leaky_relu(x, 256, 1, 1)\n",
        "x = conv_leaky_relu(x, 128, 1, 1)\n",
        "x = conv_leaky_relu(x, 64, 1, 1)\n",
        "x = conv_leaky_relu(x, 30, 1, 1)\n",
        "outputs = layers.Flatten()(x)\n",
        "                       \n",
        "YOLO = keras.Model(inputs=img_inputs, outputs=outputs, name=\"YOLO\")"
      ],
      "execution_count": null,
      "outputs": [
        {
          "name": "stdout",
          "output_type": "stream",
          "text": [
            "Downloading data from https://storage.googleapis.com/tensorflow/keras-applications/vgg16/vgg16_weights_tf_dim_ordering_tf_kernels_notop.h5\n",
            "58892288/58889256 [==============================] - 6s 0us/step\n",
            "58900480/58889256 [==============================] - 6s 0us/step\n"
          ]
        }
      ]
    },
    {
      "cell_type": "code",
      "metadata": {
        "colab": {
          "base_uri": "https://localhost:8080/"
        },
        "id": "DMwoi0Ux1Vwu",
        "outputId": "ef0298e5-bceb-4e65-d0fe-fefdaf62a52b"
      },
      "source": [
        "YOLO.summary()"
      ],
      "execution_count": null,
      "outputs": [
        {
          "name": "stdout",
          "output_type": "stream",
          "text": [
            "Model: \"YOLO\"\n",
            "_________________________________________________________________\n",
            "Layer (type)                 Output Shape              Param #   \n",
            "=================================================================\n",
            "input_1 (InputLayer)         [(None, 448, 448, 3)]     0         \n",
            "_________________________________________________________________\n",
            "model (Functional)           (None, 14, 14, 512)       14714688  \n",
            "_________________________________________________________________\n",
            "batch_normalization (BatchNo (None, 14, 14, 512)       2048      \n",
            "_________________________________________________________________\n",
            "conv2d (Conv2D)              (None, 14, 14, 512)       262656    \n",
            "_________________________________________________________________\n",
            "leaky_re_lu (LeakyReLU)      (None, 14, 14, 512)       0         \n",
            "_________________________________________________________________\n",
            "conv2d_1 (Conv2D)            (None, 14, 14, 1024)      4719616   \n",
            "_________________________________________________________________\n",
            "leaky_re_lu_1 (LeakyReLU)    (None, 14, 14, 1024)      0         \n",
            "_________________________________________________________________\n",
            "conv2d_2 (Conv2D)            (None, 14, 14, 512)       524800    \n",
            "_________________________________________________________________\n",
            "leaky_re_lu_2 (LeakyReLU)    (None, 14, 14, 512)       0         \n",
            "_________________________________________________________________\n",
            "conv2d_3 (Conv2D)            (None, 14, 14, 1024)      4719616   \n",
            "_________________________________________________________________\n",
            "leaky_re_lu_3 (LeakyReLU)    (None, 14, 14, 1024)      0         \n",
            "_________________________________________________________________\n",
            "conv2d_4 (Conv2D)            (None, 14, 14, 1024)      9438208   \n",
            "_________________________________________________________________\n",
            "leaky_re_lu_4 (LeakyReLU)    (None, 14, 14, 1024)      0         \n",
            "_________________________________________________________________\n",
            "conv2d_5 (Conv2D)            (None, 7, 7, 1024)        9438208   \n",
            "_________________________________________________________________\n",
            "leaky_re_lu_5 (LeakyReLU)    (None, 7, 7, 1024)        0         \n",
            "_________________________________________________________________\n",
            "conv2d_6 (Conv2D)            (None, 7, 7, 1024)        9438208   \n",
            "_________________________________________________________________\n",
            "leaky_re_lu_6 (LeakyReLU)    (None, 7, 7, 1024)        0         \n",
            "_________________________________________________________________\n",
            "conv2d_7 (Conv2D)            (None, 7, 7, 1024)        9438208   \n",
            "_________________________________________________________________\n",
            "leaky_re_lu_7 (LeakyReLU)    (None, 7, 7, 1024)        0         \n",
            "_________________________________________________________________\n",
            "batch_normalization_1 (Batch (None, 7, 7, 1024)        4096      \n",
            "_________________________________________________________________\n",
            "conv2d_8 (Conv2D)            (None, 7, 7, 512)         524800    \n",
            "_________________________________________________________________\n",
            "leaky_re_lu_8 (LeakyReLU)    (None, 7, 7, 512)         0         \n",
            "_________________________________________________________________\n",
            "conv2d_9 (Conv2D)            (None, 7, 7, 256)         131328    \n",
            "_________________________________________________________________\n",
            "leaky_re_lu_9 (LeakyReLU)    (None, 7, 7, 256)         0         \n",
            "_________________________________________________________________\n",
            "conv2d_10 (Conv2D)           (None, 7, 7, 128)         32896     \n",
            "_________________________________________________________________\n",
            "leaky_re_lu_10 (LeakyReLU)   (None, 7, 7, 128)         0         \n",
            "_________________________________________________________________\n",
            "conv2d_11 (Conv2D)           (None, 7, 7, 64)          8256      \n",
            "_________________________________________________________________\n",
            "leaky_re_lu_11 (LeakyReLU)   (None, 7, 7, 64)          0         \n",
            "_________________________________________________________________\n",
            "conv2d_12 (Conv2D)           (None, 7, 7, 30)          1950      \n",
            "_________________________________________________________________\n",
            "leaky_re_lu_12 (LeakyReLU)   (None, 7, 7, 30)          0         \n",
            "_________________________________________________________________\n",
            "flatten (Flatten)            (None, 1470)              0         \n",
            "=================================================================\n",
            "Total params: 63,399,582\n",
            "Trainable params: 48,681,822\n",
            "Non-trainable params: 14,717,760\n",
            "_________________________________________________________________\n"
          ]
        }
      ]
    },
    {
      "cell_type": "markdown",
      "metadata": {
        "id": "T0KXmhowvTY7"
      },
      "source": [
        "### Define loss"
      ]
    },
    {
      "cell_type": "code",
      "metadata": {
        "id": "zhsjFjEP6Hwo"
      },
      "source": [
        "# base boxes (for loss calculation)\n",
        "base_boxes = np.zeros([CELL_SIZE, CELL_SIZE, 4])\n",
        "\n",
        "# initializtion for each cell\n",
        "for y in range(CELL_SIZE):\n",
        "    for x in range(CELL_SIZE):\n",
        "        base_boxes[y, x, :] = [IMAGE_SIZE / CELL_SIZE * x, \n",
        "                               IMAGE_SIZE / CELL_SIZE * y, 0, 0]\n",
        "\n",
        "base_boxes = np.resize(base_boxes, [CELL_SIZE, CELL_SIZE, 1, 4])\n",
        "base_boxes = np.tile(base_boxes, [1, 1, BOXES_PER_CELL, 1])"
      ],
      "execution_count": null,
      "outputs": []
    },
    {
      "cell_type": "code",
      "metadata": {
        "id": "dgPxgbT5opkk"
      },
      "source": [
        "def individual_loss(args):\n",
        "    predict, label, object_num = args\n",
        "    results = 0.\n",
        "\n",
        "    for j in tf.range(object_num):\n",
        "        results += losses_calculation(predict, label[j:j+1, :])\n",
        "    return results"
      ],
      "execution_count": null,
      "outputs": []
    },
    {
      "cell_type": "code",
      "metadata": {
        "id": "LhqSUmdN67Ww"
      },
      "source": [
        "def yolo_loss(predicts, labels, objects_num):\n",
        "    \"\"\"\n",
        "    Add Loss to all the trainable variables\n",
        "    Args:\n",
        "        predicts: 4-D tensor [batch_size, cell_size, cell_size, num_classes + 5 * boxes_per_cell]\n",
        "        ===> (num_classes, boxes_per_cell, 4 * boxes_per_cell)\n",
        "        labels  : 3-D tensor of [batch_size, max_objects, 5]\n",
        "        objects_num: 1-D tensor [batch_size]\n",
        "    \"\"\"\n",
        "    #you can parallel the code with tf.map_fn or tf.vectorized_map (big performance gain!)\n",
        "    return tf.reduce_mean(tf.map_fn(individual_loss, elems=[predicts, labels, objects_num], fn_output_signature=tf.float32))"
      ],
      "execution_count": null,
      "outputs": []
    },
    {
      "cell_type": "code",
      "metadata": {
        "id": "D-3s4ycG7Jey"
      },
      "source": [
        "def iou(boxes1, boxes2):\n",
        "    \"\"\"calculate ious\n",
        "    Args:\n",
        "      boxes1: 4-D tensor [CELL_SIZE, CELL_SIZE, BOXES_PER_CELL, 4]  ====> (x_center, y_center, w, h)\n",
        "      boxes2: 1-D tensor [4] ===> (x_center, y_center, w, h)\n",
        "\n",
        "    Return:\n",
        "      iou: 3-D tensor [CELL_SIZE, CELL_SIZE, BOXES_PER_CELL]\n",
        "      ====> iou score for each cell\n",
        "    \"\"\"\n",
        "\n",
        "    #boxes1 : [4(xmin, ymin, xmax, ymax), cell_size, cell_size, boxes_per_cell]\n",
        "    boxes1 = tf.stack([boxes1[:, :, :, 0] - boxes1[:, :, :, 2] / 2, boxes1[:, :, :, 1] - boxes1[:, :, :, 3] / 2,\n",
        "                      boxes1[:, :, :, 0] + boxes1[:, :, :, 2] / 2, boxes1[:, :, :, 1] + boxes1[:, :, :, 3] / 2])\n",
        "\n",
        "    #boxes1 : [cell_size, cell_size, boxes_per_cell, 4(xmin, ymin, xmax, ymax)]\n",
        "    boxes1 = tf.transpose(boxes1, [1, 2, 3, 0])\n",
        "\n",
        "    boxes2 =  tf.stack([boxes2[0] - boxes2[2] / 2, boxes2[1] - boxes2[3] / 2,\n",
        "                      boxes2[0] + boxes2[2] / 2, boxes2[1] + boxes2[3] / 2])\n",
        "\n",
        "    #calculate the left up point of boxes' overlap area\n",
        "    lu = tf.maximum(boxes1[:, :, :, 0:2], boxes2[0:2])\n",
        "    #calculate the right down point of boxes overlap area\n",
        "    rd = tf.minimum(boxes1[:, :, :, 2:], boxes2[2:])\n",
        "\n",
        "    #intersection\n",
        "    intersection = rd - lu \n",
        "\n",
        "    #the size of the intersection area\n",
        "    inter_square = intersection[:, :, :, 0] * intersection[:, :, :, 1]\n",
        "\n",
        "    mask = tf.cast(intersection[:, :, :, 0] > 0, tf.float32) * tf.cast(intersection[:, :, :, 1] > 0, tf.float32)\n",
        "\n",
        "    #if intersection is negative, then the boxes don't overlap\n",
        "    inter_square = mask * inter_square\n",
        "\n",
        "    #calculate the boxs1 square and boxs2 square\n",
        "    square1 = (boxes1[:, :, :, 2] - boxes1[:, :, :, 0]) * (boxes1[:, :, :, 3] - boxes1[:, :, :, 1])\n",
        "    square2 = (boxes2[2] - boxes2[0]) * (boxes2[3] - boxes2[1])\n",
        "\n",
        "    return inter_square/(square1 + square2 - inter_square + 1e-6)\n",
        "\n",
        "def losses_calculation(predict, label):\n",
        "    \"\"\"\n",
        "    calculate loss\n",
        "    Args:\n",
        "      predict: 3-D tensor [cell_size, cell_size, num_classes + 5 * boxes_per_cell]\n",
        "      label : [1, 5]  (x_center, y_center, w, h, class)\n",
        "    \"\"\"\n",
        "    label = tf.reshape(label, [-1])\n",
        "\n",
        "    #Step A. calculate objects tensor [CELL_SIZE, CELL_SIZE]\n",
        "    #turn pixel position into cell position (corner)\n",
        "    min_x = (label[0] - label[2] / 2) / (IMAGE_SIZE / CELL_SIZE)\n",
        "    max_x = (label[0] + label[2] / 2) / (IMAGE_SIZE / CELL_SIZE)\n",
        "\n",
        "    min_y = (label[1] - label[3] / 2) / (IMAGE_SIZE / CELL_SIZE)\n",
        "    max_y = (label[1] + label[3] / 2) / (IMAGE_SIZE / CELL_SIZE)\n",
        "\n",
        "    min_x = tf.floor(min_x)\n",
        "    min_y = tf.floor(min_y)\n",
        "\n",
        "    max_x = tf.minimum(tf.math.ceil(max_x), CELL_SIZE)\n",
        "    max_y = tf.minimum(tf.math.ceil(max_y), CELL_SIZE)\n",
        "    \n",
        "    #calculate mask of object with cells\n",
        "    onset = tf.cast(tf.stack([max_y - min_y, max_x - min_x]), dtype=tf.int32)\n",
        "    object_mask = tf.ones(onset, tf.float32)\n",
        "\n",
        "    offset = tf.cast(tf.stack([min_y, CELL_SIZE - max_y, min_x, CELL_SIZE - max_x]), tf.int32)\n",
        "    offset = tf.reshape(offset, (2, 2))\n",
        "    object_mask = tf.pad(object_mask, offset, \"CONSTANT\")\n",
        "\n",
        "    #Step B. calculate the coordination of object center and the corresponding mask\n",
        "    #turn pixel position into cell position (center)\n",
        "    center_x = label[0] / (IMAGE_SIZE / CELL_SIZE)\n",
        "    center_x = tf.floor(center_x)\n",
        "\n",
        "    center_y = label[1] / (IMAGE_SIZE / CELL_SIZE)\n",
        "    center_y = tf.floor(center_y)\n",
        "\n",
        "    response = tf.ones([1, 1], tf.float32)\n",
        "\n",
        "    #calculate the coordination of object center with cells\n",
        "    objects_center_coord = tf.cast(tf.stack([center_y, CELL_SIZE - center_y - 1, \n",
        "                             center_x, CELL_SIZE - center_x - 1]), \n",
        "                             tf.int32)\n",
        "    objects_center_coord = tf.reshape(objects_center_coord, (2, 2))\n",
        "\n",
        "    #make mask\n",
        "    response = tf.pad(response, objects_center_coord, \"CONSTANT\")\n",
        "\n",
        "    #Step C. calculate iou_predict_truth [CELL_SIZE, CELL_SIZE, BOXES_PER_CELL]\n",
        "    predict_boxes = predict[:, :, NUM_CLASSES + BOXES_PER_CELL:]\n",
        "\n",
        "    predict_boxes = tf.reshape(predict_boxes, [CELL_SIZE, \n",
        "                                               CELL_SIZE, \n",
        "                                               BOXES_PER_CELL, 4])\n",
        "    #cell position to pixel position\n",
        "    predict_boxes = predict_boxes * [IMAGE_SIZE / CELL_SIZE, \n",
        "                                     IMAGE_SIZE / CELL_SIZE, \n",
        "                                     IMAGE_SIZE, IMAGE_SIZE]\n",
        "\n",
        "    #if there's no predict_box in that cell, then the base_boxes will be calcuated with label and got iou equals 0\n",
        "    predict_boxes = base_boxes + predict_boxes\n",
        "\n",
        "    iou_predict_truth = iou(predict_boxes, label[0:4])\n",
        "\n",
        "    #calculate C tensor [CELL_SIZE, CELL_SIZE, BOXES_PER_CELL]\n",
        "    C = iou_predict_truth * tf.reshape(response, [CELL_SIZE, CELL_SIZE, 1])\n",
        "\n",
        "    #calculate I tensor [CELL_SIZE, CELL_SIZE, BOXES_PER_CELL]\n",
        "    I = iou_predict_truth * tf.reshape(response, [CELL_SIZE, CELL_SIZE, 1])\n",
        "\n",
        "    max_I = tf.reduce_max(I, 2, keepdims=True)\n",
        "\n",
        "    #replace large iou scores with response (object center) value\n",
        "    I = tf.cast((I >= max_I), tf.float32) * tf.reshape(response, (CELL_SIZE, CELL_SIZE, 1))\n",
        "\n",
        "    #calculate no_I tensor [CELL_SIZE, CELL_SIZE, BOXES_PER_CELL]\n",
        "    no_I = tf.ones_like(I, dtype=tf.float32) - I\n",
        "\n",
        "    p_C = predict[:, :, NUM_CLASSES:NUM_CLASSES + BOXES_PER_CELL]\n",
        "\n",
        "    #calculate truth x, y, sqrt_w, sqrt_h 0-D\n",
        "    x = label[0]\n",
        "    y = label[1]\n",
        "\n",
        "    sqrt_w = tf.sqrt(tf.abs(label[2]))\n",
        "    sqrt_h = tf.sqrt(tf.abs(label[3]))\n",
        "\n",
        "    #calculate predict p_x, p_y, p_sqrt_w, p_sqrt_h 3-D [CELL_SIZE, CELL_SIZE, BOXES_PER_CELL]\n",
        "    p_x = predict_boxes[:, :, :, 0]\n",
        "    p_y = predict_boxes[:, :, :, 1]\n",
        "\n",
        "    p_sqrt_w = tf.sqrt(tf.minimum(IMAGE_SIZE * 1.0, tf.maximum(0.0, predict_boxes[:, :, :, 2])))\n",
        "    p_sqrt_h = tf.sqrt(tf.minimum(IMAGE_SIZE * 1.0, tf.maximum(0.0, predict_boxes[:, :, :, 3])))\n",
        "\n",
        "    #calculate ground truth p 1-D tensor [NUM_CLASSES]\n",
        "    P = tf.one_hot(tf.cast(label[4], tf.int32), NUM_CLASSES, dtype=tf.float32)\n",
        "\n",
        "    #calculate predicted p_P 3-D tensor [CELL_SIZE, CELL_SIZE, NUM_CLASSES]\n",
        "    p_P = predict[:, :, 0:NUM_CLASSES]\n",
        "\n",
        "    #class_loss\n",
        "    class_loss = tf.nn.l2_loss(tf.reshape(object_mask, (CELL_SIZE, CELL_SIZE, 1)) * (p_P - P)) * CLASS_SCALE\n",
        "\n",
        "    #object_loss\n",
        "    object_loss = tf.nn.l2_loss(I * (p_C - C)) * OBJECT_SCALE\n",
        "\n",
        "    #noobject_loss\n",
        "    noobject_loss = tf.nn.l2_loss(no_I * (p_C)) * NOOBJECT_SCALE\n",
        "\n",
        "    #coord_loss\n",
        "    coord_loss = (tf.nn.l2_loss(I * (p_x - x)/(IMAGE_SIZE/CELL_SIZE)) +\n",
        "                  tf.nn.l2_loss(I * (p_y - y)/(IMAGE_SIZE/CELL_SIZE)) +\n",
        "                  tf.nn.l2_loss(I * (p_sqrt_w - sqrt_w))/IMAGE_SIZE +\n",
        "                  tf.nn.l2_loss(I * (p_sqrt_h - sqrt_h))/IMAGE_SIZE) * COORD_SCALE\n",
        "\n",
        "    return class_loss + object_loss + noobject_loss + coord_loss"
      ],
      "execution_count": null,
      "outputs": []
    },
    {
      "cell_type": "markdown",
      "metadata": {
        "id": "JMSc9J2N7UjL"
      },
      "source": [
        "## Start training"
      ]
    },
    {
      "cell_type": "code",
      "metadata": {
        "id": "kPr7Pq8S7N9y"
      },
      "source": [
        "dataset = DatasetGenerator().generate()"
      ],
      "execution_count": null,
      "outputs": []
    },
    {
      "cell_type": "code",
      "metadata": {
        "id": "Qn4JHJlh7ZEk"
      },
      "source": [
        "optimizer = tf.keras.optimizers.Adam(LEARNING_RATE)\n",
        "train_loss_metric = tf.keras.metrics.Mean(name='loss')"
      ],
      "execution_count": null,
      "outputs": []
    },
    {
      "cell_type": "code",
      "metadata": {
        "id": "33bVtMP_z3Cu",
        "outputId": "21654943-261c-4065-e29a-22e8e2b19fe3"
      },
      "source": [
        "ckpt = tf.train.Checkpoint(epoch=tf.Variable(0), net=YOLO)\n",
        "manager = tf.train.CheckpointManager(ckpt, './ckpts/YOLO', max_to_keep=3,\n",
        "                                     checkpoint_name='yolo')\n",
        "\n",
        "ckpt.restore(manager.latest_checkpoint)"
      ],
      "execution_count": null,
      "outputs": [
        {
          "data": {
            "text/plain": [
              "<tensorflow.python.training.tracking.util.CheckpointLoadStatus at 0x14b7b1640>"
            ]
          },
          "execution_count": 17,
          "metadata": {},
          "output_type": "execute_result"
        }
      ]
    },
    {
      "cell_type": "code",
      "metadata": {
        "id": "mvrXrV7M7siV"
      },
      "source": [
        "@tf.function\n",
        "def train_step(image, labels, objects_num):\n",
        "    with tf.GradientTape() as tape:\n",
        "        outputs = YOLO(image)\n",
        "        class_end = CELL_SIZE * CELL_SIZE * NUM_CLASSES\n",
        "        conf_end = class_end + CELL_SIZE * CELL_SIZE * BOXES_PER_CELL\n",
        "        class_probs = tf.reshape(outputs[:, 0:class_end], (-1, 7, 7, 20))\n",
        "        confs = tf.reshape(outputs[:, class_end:conf_end], (-1, 7, 7, 2))\n",
        "        boxes = tf.reshape(outputs[:, conf_end:], (-1, 7, 7, 2*4))\n",
        "        predicts = tf.concat([class_probs, confs, boxes], 3)\n",
        "        loss = yolo_loss(predicts, labels, objects_num)\n",
        "        train_loss_metric(loss)\n",
        "\n",
        "    grads = tape.gradient(loss, YOLO.trainable_weights)\n",
        "    optimizer.apply_gradients(zip(grads, YOLO.trainable_weights))"
      ],
      "execution_count": null,
      "outputs": []
    },
    {
      "cell_type": "code",
      "metadata": {
        "id": "DAa0M84F46of"
      },
      "source": [
        "from datetime import datetime"
      ],
      "execution_count": null,
      "outputs": []
    },
    {
      "cell_type": "code",
      "metadata": {
        "id": "_dTmilvd7z8G"
      },
      "source": [
        "print('{}, start training from epoch {}.'.format(datetime.now(), int(ckpt.epoch)+1))\n",
        "\n",
        "for i in range(int(ckpt.epoch), EPOCHS):\n",
        "    train_loss_metric.reset_states()\n",
        "    ckpt.epoch.assign_add(1)\n",
        "\n",
        "    for idx, (image, labels, objects_num) in enumerate(dataset):\n",
        "        train_step(image, labels, objects_num)\n",
        "\n",
        "    print('{}, Epoch {}: loss {:.2f}'.format(datetime.now(), i+1, train_loss_metric.result()))\n",
        "\n",
        "    save_path = manager.save()\n",
        "    print('Saved checkpoint for epoch {}: {}'.format(int(ckpt.epoch), save_path))"
      ],
      "execution_count": null,
      "outputs": []
    },
    {
      "cell_type": "markdown",
      "metadata": {
        "id": "RqNYWxkI46of"
      },
      "source": [
        "## Non-Max Suppresion"
      ]
    },
    {
      "cell_type": "code",
      "metadata": {
        "id": "yv5zNX-O46of"
      },
      "source": [
        "def process_predicts(outputs, thresh=0.12):\n",
        "    \"\"\"\n",
        "    process the predicts of object detection with one image input.\n",
        "\n",
        "    Args:\n",
        "        resized_img: resized source image.\n",
        "        predicts: output of the model.\n",
        "        thresh: thresh of bounding box confidence.\n",
        "    Return:\n",
        "        predicts_dict: {\"cat\": [[x1, y1, x2, y2, scores1], [...]]}.\n",
        "    \"\"\"\n",
        "    \n",
        "    class_end = CELL_SIZE * CELL_SIZE * NUM_CLASSES\n",
        "    conf_end = class_end + CELL_SIZE * CELL_SIZE * BOXES_PER_CELL\n",
        "    class_probs = np.reshape(outputs[:, 0:class_end], (-1, 7, 7, 20))\n",
        "    confs = np.reshape(outputs[:, class_end:conf_end], (-1, 7, 7, 2))\n",
        "    boxes = np.reshape(outputs[:, conf_end:], (-1, 7, 7, 2*4))\n",
        "    predicts = np.concatenate([class_probs, confs, boxes], 3)\n",
        "    \n",
        "    p_classes = predicts[0, :, :, 0:20] # 20 classes.\n",
        "    C = predicts[0, :, :, 20:22] # two bounding boxes in one cell.\n",
        "    coordinate = predicts[0, :, :,22:] # all bounding boxes position.\n",
        "\n",
        "    p_classes = np.reshape(p_classes, (7, 7, 1, 20))\n",
        "    C = np.reshape(C, (7, 7, 2, 1))\n",
        "\n",
        "    P = C * p_classes # confidencefor all classes of all bounding boxes (cell_size, cell_size, bounding_box_num, class_num) = (7, 7, 2, 1).\n",
        "\n",
        "    predicts_dict = {}\n",
        "    for i in range(7):\n",
        "        for j in range(7):\n",
        "            temp_data = np.zeros_like(P, np.float32)\n",
        "            temp_data[i, j, :, :] = P[i, j, :, :]\n",
        "            position = np.argmax(temp_data) # refer to the class num (with maximum confidence) for every bounding box.\n",
        "            index = np.unravel_index(position, P.shape)\n",
        "\n",
        "            if P[index] > thresh:\n",
        "                class_num = index[-1]\n",
        "                coordinate = np.reshape(coordinate, (7, 7, 2, 4)) # (cell_size, cell_size, bbox_num_per_cell, coordinate)[xmin, ymin, xmax, ymax]\n",
        "                max_coordinate = coordinate[index[0], index[1], index[2], :]\n",
        "\n",
        "                xcenter = max_coordinate[0]\n",
        "                ycenter = max_coordinate[1]\n",
        "                w = max_coordinate[2]\n",
        "                h = max_coordinate[3]\n",
        "\n",
        "                xcenter = (index[1] + xcenter) * (448/7.0)\n",
        "                ycenter = (index[0] + ycenter) * (448/7.0)\n",
        "\n",
        "                w = w * 448 \n",
        "                h = h * 448\n",
        "                xmin = 0 if (xcenter - w/2.0 < 0) else (xcenter - w/2.0)\n",
        "                ymin = 0 if (ycenter - h/2.0 < 0) else (ycenter - h/2.0)\n",
        "                xmax = IMAGE_SIZE if (xmin + w) > IMAGE_SIZE else (xmin + w)\n",
        "                ymax = IMAGE_SIZE if (ymin + h) > IMAGE_SIZE else (ymin + h)\n",
        "\n",
        "                predicts_dict.setdefault(class_num, [])\n",
        "                predicts_dict[class_num].append([int(xmin), int(ymin), int(xmax), int(ymax), P[index]])\n",
        "                \n",
        "    if predicts_dict == {}:\n",
        "        #choose the most confidence one\n",
        "        max_conf = np.max(P)\n",
        "        index = np.argmax(P)\n",
        "\n",
        "        index = np.unravel_index(index, P.shape)\n",
        "\n",
        "        class_num = index[3]\n",
        "\n",
        "        coordinate = np.reshape(coordinate, \n",
        "                            (CELL_SIZE, \n",
        "                             CELL_SIZE,\n",
        "                             BOXES_PER_CELL, \n",
        "                             4))\n",
        "\n",
        "        max_coordinate = coordinate[index[0], index[1], index[2], :]\n",
        "\n",
        "        xcenter = max_coordinate[0]\n",
        "        ycenter = max_coordinate[1]\n",
        "        w = max_coordinate[2]\n",
        "        h = max_coordinate[3]\n",
        "\n",
        "        xcenter = (index[1] + xcenter) * (IMAGE_SIZE/float(CELL_SIZE))\n",
        "        ycenter = (index[0] + ycenter) * (IMAGE_SIZE/float(CELL_SIZE))\n",
        "\n",
        "        w = w * IMAGE_SIZE\n",
        "        h = h * IMAGE_SIZE\n",
        "\n",
        "        xmin = xcenter - w/2.0\n",
        "        ymin = ycenter - h/2.0\n",
        "\n",
        "        xmax = xmin + w\n",
        "        ymax = ymin + h\n",
        "        # class_name = classes_name[class_num]\n",
        "        predicts_dict[class_num] = [[int(xmin), int(ymin), int(xmax), int(ymax), P[index]]]\n",
        "        \n",
        "    return predicts_dict\n",
        "\n",
        "\n",
        "def non_max_suppress(predicts_dict, threshold=0.5):\n",
        "    \"\"\"\n",
        "    implement non-maximum supression on predict bounding boxes.\n",
        "    Args:\n",
        "        predicts_dict: {\"cat\": [[x1, y1, x2, y2, scores1], [...]]}.\n",
        "        threshhold: iou threshold\n",
        "    Return:\n",
        "        predicts_dict processed by non-maximum suppression\n",
        "    \"\"\"\n",
        "    for object_name, bbox in predicts_dict.items():\n",
        "        bbox_array = np.array(bbox, dtype=np.float)\n",
        "        x1, y1, x2, y2, scores = bbox_array[:,0], bbox_array[:,1], bbox_array[:,2], bbox_array[:,3], bbox_array[:,4]\n",
        "        areas = (x2-x1+1) * (y2-y1+1)\n",
        "        #print \"areas shape = \", areas.shape\n",
        "        order = scores.argsort()[::-1]\n",
        "        #print \"order = \", order\n",
        "        keep = []\n",
        "\n",
        "        while order.size > 0:\n",
        "            i = order[0]\n",
        "            keep.append(i)\n",
        "            xx1 = np.maximum(x1[i], x1[order[1:]])\n",
        "            yy1 = np.maximum(y1[i], y1[order[1:]])\n",
        "            xx2 = np.minimum(x2[i], x2[order[1:]])\n",
        "            yy2 = np.minimum(y2[i], y2[order[1:]])\n",
        "\n",
        "            inter = np.maximum(0.0, xx2-xx1+1) * np.maximum(0.0, yy2-yy1+1)\n",
        "            iou = inter/(areas[i]+areas[order[1:]]-inter)\n",
        "            indexs = np.where(iou<=threshold)[0]\n",
        "            order = order[indexs+1]\n",
        "        bbox = bbox_array[keep]\n",
        "        predicts_dict[object_name] = bbox.tolist()\n",
        "        predicts_dict = predicts_dict\n",
        "    return predicts_dict"
      ],
      "execution_count": null,
      "outputs": []
    },
    {
      "cell_type": "markdown",
      "metadata": {
        "id": "khq0uKo-YOJ4"
      },
      "source": [
        "### Build test data iterator"
      ]
    },
    {
      "cell_type": "code",
      "metadata": {
        "id": "cKWBDAZhX9ds"
      },
      "source": [
        "test_img_files = open('./datalab-2021-cup2-object-detection/pascal_voc_testing_data.txt')\n",
        "test_img_dir = './datalab-2021-cup2-object-detection/VOCdevkit_test/VOC2007/JPEGImages/'\n",
        "test_images = []\n",
        "\n",
        "for line in test_img_files:\n",
        "    line = line.strip()\n",
        "    ss = line.split(' ')\n",
        "    test_images.append(ss[0])\n",
        "\n",
        "test_dataset = tf.data.Dataset.from_tensor_slices(test_images)\n",
        "\n",
        "def load_img_data(image_name):\n",
        "    image_file = tf.io.read_file(test_img_dir+image_name)\n",
        "    image = tf.image.decode_jpeg(image_file, channels=3)\n",
        "\n",
        "    h = tf.shape(image)[0]\n",
        "    w = tf.shape(image)[1]\n",
        "\n",
        "    image = tf.image.resize(image, size=[IMAGE_SIZE, IMAGE_SIZE])\n",
        "    image = image/255.0\n",
        "\n",
        "\n",
        "    return image_name, image, h, w\n",
        "\n",
        "test_dataset = test_dataset.map(load_img_data, num_parallel_calls = tf.data.experimental.AUTOTUNE)\n",
        "test_dataset = test_dataset.batch(32)"
      ],
      "execution_count": null,
      "outputs": []
    },
    {
      "cell_type": "code",
      "metadata": {
        "colab": {
          "base_uri": "https://localhost:8080/"
        },
        "id": "B8gUo2M9YSz-",
        "outputId": "f445312b-5584-4af7-96ed-47943ead964a"
      },
      "source": [
        "ckpt = tf.train.Checkpoint(net=YOLO)\n",
        "ckpt.restore(manager.latest_checkpoint)"
      ],
      "execution_count": null,
      "outputs": [
        {
          "data": {
            "text/plain": [
              "<tensorflow.python.training.tracking.util.CheckpointLoadStatus at 0x14b799e80>"
            ]
          },
          "execution_count": 22,
          "metadata": {},
          "output_type": "execute_result"
        }
      ]
    },
    {
      "cell_type": "code",
      "metadata": {
        "id": "hR0CjUThYVOB"
      },
      "source": [
        "@tf.function\n",
        "def prediction_step(img):\n",
        "    return YOLO(img, training=False)"
      ],
      "execution_count": null,
      "outputs": []
    },
    {
      "cell_type": "markdown",
      "metadata": {
        "id": "fS24x5KeYb7c"
      },
      "source": [
        "### Make predictions and output to txt file"
      ]
    },
    {
      "cell_type": "code",
      "metadata": {
        "id": "ZJdYwExsYbL-",
        "outputId": "40c87cdf-aae2-41ef-dc79-7042657cc3b3"
      },
      "source": [
        "output_file = open('./test_prediction.txt', 'w')\n",
        "\n",
        "for img_name, test_img, img_h, img_w in test_dataset:\n",
        "    batch_num = img_name.shape[0]\n",
        "    for i in range(batch_num):\n",
        "        # xmin, ymin, xmax, ymax, class_num, conf = process_outputs(prediction_step(test_img[i:i+1]))\n",
        "        y_pred = process_predicts(prediction_step(test_img[i:i+1]), thresh=0.05)\n",
        "        # print(y_pred)\n",
        "        y_pred = non_max_suppress(y_pred, threshold=0.2)\n",
        "        # print(y_pred)\n",
        "        output_file.write(img_name[i:i+1].numpy()[0].decode('ascii'))\n",
        "        for class_num in y_pred.keys():\n",
        "            for idx, box in enumerate(y_pred[class_num]):\n",
        "                output_file.write(' %d %d %d %d %d %f' % \n",
        "                              (box[0]*(img_w[i:i+1]/IMAGE_SIZE), box[1]*(img_h[i:i+1]/IMAGE_SIZE), box[2]*(img_w[i:i+1]/IMAGE_SIZE), box[3]*(img_h[i:i+1]/IMAGE_SIZE), class_num, box[4]))\n",
        "        output_file.write('\\n')\n",
        "        #         y_pred[class_num][idx] = [box[0]*(img_w[i:i+1]/IMAGE_SIZE), box[1]*(img_h[i:i+1]/IMAGE_SIZE), box[2]*(img_w[i:i+1]/IMAGE_SIZE), box[3]*(img_h[i:i+1]/IMAGE_SIZE), box[4]]\n",
        "        # xmin, ymin, xmax, ymax = xmin*(img_w[i:i+1]/IMAGE_SIZE), ymin*(img_h[i:i+1]/IMAGE_SIZE), xmax*(img_w[i:i+1]/IMAGE_SIZE), ymax*(img_h[i:i+1]/IMAGE_SIZE)\n",
        "\n",
        "        #img filename, xmin, ymin, xmax, ymax, class, confidence\n",
        "        # output_file.write(img_name[i:i+1].numpy()[0].decode('ascii')+\" %d %d %d %d %d %f\\n\" %(xmin, ymin, xmax, ymax, class_num, conf))\n",
        "\n",
        "output_file.close()"
      ],
      "execution_count": null,
      "outputs": [
        {
          "ename": "KeyboardInterrupt",
          "evalue": "",
          "output_type": "error",
          "traceback": [
            "\u001b[0;31m---------------------------------------------------------------------------\u001b[0m",
            "\u001b[0;31mKeyboardInterrupt\u001b[0m                         Traceback (most recent call last)",
            "\u001b[0;32m<ipython-input-24-aa8c8124bba8>\u001b[0m in \u001b[0;36m<module>\u001b[0;34m\u001b[0m\n\u001b[1;32m      5\u001b[0m     \u001b[0;32mfor\u001b[0m \u001b[0mi\u001b[0m \u001b[0;32min\u001b[0m \u001b[0mrange\u001b[0m\u001b[0;34m(\u001b[0m\u001b[0mbatch_num\u001b[0m\u001b[0;34m)\u001b[0m\u001b[0;34m:\u001b[0m\u001b[0;34m\u001b[0m\u001b[0;34m\u001b[0m\u001b[0m\n\u001b[1;32m      6\u001b[0m         \u001b[0;31m# xmin, ymin, xmax, ymax, class_num, conf = process_outputs(prediction_step(test_img[i:i+1]))\u001b[0m\u001b[0;34m\u001b[0m\u001b[0;34m\u001b[0m\u001b[0m\n\u001b[0;32m----> 7\u001b[0;31m         \u001b[0my_pred\u001b[0m \u001b[0;34m=\u001b[0m \u001b[0mprocess_predicts\u001b[0m\u001b[0;34m(\u001b[0m\u001b[0mprediction_step\u001b[0m\u001b[0;34m(\u001b[0m\u001b[0mtest_img\u001b[0m\u001b[0;34m[\u001b[0m\u001b[0mi\u001b[0m\u001b[0;34m:\u001b[0m\u001b[0mi\u001b[0m\u001b[0;34m+\u001b[0m\u001b[0;36m1\u001b[0m\u001b[0;34m]\u001b[0m\u001b[0;34m)\u001b[0m\u001b[0;34m,\u001b[0m \u001b[0mthresh\u001b[0m\u001b[0;34m=\u001b[0m\u001b[0;36m0.05\u001b[0m\u001b[0;34m)\u001b[0m\u001b[0;34m\u001b[0m\u001b[0;34m\u001b[0m\u001b[0m\n\u001b[0m\u001b[1;32m      8\u001b[0m         \u001b[0;31m# print(y_pred)\u001b[0m\u001b[0;34m\u001b[0m\u001b[0;34m\u001b[0m\u001b[0m\n\u001b[1;32m      9\u001b[0m         \u001b[0my_pred\u001b[0m \u001b[0;34m=\u001b[0m \u001b[0mnon_max_suppress\u001b[0m\u001b[0;34m(\u001b[0m\u001b[0my_pred\u001b[0m\u001b[0;34m,\u001b[0m \u001b[0mthreshold\u001b[0m\u001b[0;34m=\u001b[0m\u001b[0;36m0.2\u001b[0m\u001b[0;34m)\u001b[0m\u001b[0;34m\u001b[0m\u001b[0;34m\u001b[0m\u001b[0m\n",
            "\u001b[0;32m/usr/local/lib/python3.9/site-packages/tensorflow/python/eager/def_function.py\u001b[0m in \u001b[0;36m__call__\u001b[0;34m(self, *args, **kwds)\u001b[0m\n\u001b[1;32m    883\u001b[0m \u001b[0;34m\u001b[0m\u001b[0m\n\u001b[1;32m    884\u001b[0m       \u001b[0;32mwith\u001b[0m \u001b[0mOptionalXlaContext\u001b[0m\u001b[0;34m(\u001b[0m\u001b[0mself\u001b[0m\u001b[0;34m.\u001b[0m\u001b[0m_jit_compile\u001b[0m\u001b[0;34m)\u001b[0m\u001b[0;34m:\u001b[0m\u001b[0;34m\u001b[0m\u001b[0;34m\u001b[0m\u001b[0m\n\u001b[0;32m--> 885\u001b[0;31m         \u001b[0mresult\u001b[0m \u001b[0;34m=\u001b[0m \u001b[0mself\u001b[0m\u001b[0;34m.\u001b[0m\u001b[0m_call\u001b[0m\u001b[0;34m(\u001b[0m\u001b[0;34m*\u001b[0m\u001b[0margs\u001b[0m\u001b[0;34m,\u001b[0m \u001b[0;34m**\u001b[0m\u001b[0mkwds\u001b[0m\u001b[0;34m)\u001b[0m\u001b[0;34m\u001b[0m\u001b[0;34m\u001b[0m\u001b[0m\n\u001b[0m\u001b[1;32m    886\u001b[0m \u001b[0;34m\u001b[0m\u001b[0m\n\u001b[1;32m    887\u001b[0m       \u001b[0mnew_tracing_count\u001b[0m \u001b[0;34m=\u001b[0m \u001b[0mself\u001b[0m\u001b[0;34m.\u001b[0m\u001b[0mexperimental_get_tracing_count\u001b[0m\u001b[0;34m(\u001b[0m\u001b[0;34m)\u001b[0m\u001b[0;34m\u001b[0m\u001b[0;34m\u001b[0m\u001b[0m\n",
            "\u001b[0;32m/usr/local/lib/python3.9/site-packages/tensorflow/python/eager/def_function.py\u001b[0m in \u001b[0;36m_call\u001b[0;34m(self, *args, **kwds)\u001b[0m\n\u001b[1;32m    922\u001b[0m       \u001b[0;31m# In this case we have not created variables on the first call. So we can\u001b[0m\u001b[0;34m\u001b[0m\u001b[0;34m\u001b[0m\u001b[0m\n\u001b[1;32m    923\u001b[0m       \u001b[0;31m# run the first trace but we should fail if variables are created.\u001b[0m\u001b[0;34m\u001b[0m\u001b[0;34m\u001b[0m\u001b[0m\n\u001b[0;32m--> 924\u001b[0;31m       \u001b[0mresults\u001b[0m \u001b[0;34m=\u001b[0m \u001b[0mself\u001b[0m\u001b[0;34m.\u001b[0m\u001b[0m_stateful_fn\u001b[0m\u001b[0;34m(\u001b[0m\u001b[0;34m*\u001b[0m\u001b[0margs\u001b[0m\u001b[0;34m,\u001b[0m \u001b[0;34m**\u001b[0m\u001b[0mkwds\u001b[0m\u001b[0;34m)\u001b[0m\u001b[0;34m\u001b[0m\u001b[0;34m\u001b[0m\u001b[0m\n\u001b[0m\u001b[1;32m    925\u001b[0m       \u001b[0;32mif\u001b[0m \u001b[0mself\u001b[0m\u001b[0;34m.\u001b[0m\u001b[0m_created_variables\u001b[0m \u001b[0;32mand\u001b[0m \u001b[0;32mnot\u001b[0m \u001b[0mALLOW_DYNAMIC_VARIABLE_CREATION\u001b[0m\u001b[0;34m:\u001b[0m\u001b[0;34m\u001b[0m\u001b[0;34m\u001b[0m\u001b[0m\n\u001b[1;32m    926\u001b[0m         raise ValueError(\"Creating variables on a non-first call to a function\"\n",
            "\u001b[0;32m/usr/local/lib/python3.9/site-packages/tensorflow/python/eager/function.py\u001b[0m in \u001b[0;36m__call__\u001b[0;34m(self, *args, **kwargs)\u001b[0m\n\u001b[1;32m   3037\u001b[0m       (graph_function,\n\u001b[1;32m   3038\u001b[0m        filtered_flat_args) = self._maybe_define_function(args, kwargs)\n\u001b[0;32m-> 3039\u001b[0;31m     return graph_function._call_flat(\n\u001b[0m\u001b[1;32m   3040\u001b[0m         filtered_flat_args, captured_inputs=graph_function.captured_inputs)  # pylint: disable=protected-access\n\u001b[1;32m   3041\u001b[0m \u001b[0;34m\u001b[0m\u001b[0m\n",
            "\u001b[0;32m/usr/local/lib/python3.9/site-packages/tensorflow/python/eager/function.py\u001b[0m in \u001b[0;36m_call_flat\u001b[0;34m(self, args, captured_inputs, cancellation_manager)\u001b[0m\n\u001b[1;32m   1961\u001b[0m         and executing_eagerly):\n\u001b[1;32m   1962\u001b[0m       \u001b[0;31m# No tape is watching; skip to running the function.\u001b[0m\u001b[0;34m\u001b[0m\u001b[0;34m\u001b[0m\u001b[0m\n\u001b[0;32m-> 1963\u001b[0;31m       return self._build_call_outputs(self._inference_function.call(\n\u001b[0m\u001b[1;32m   1964\u001b[0m           ctx, args, cancellation_manager=cancellation_manager))\n\u001b[1;32m   1965\u001b[0m     forward_backward = self._select_forward_and_backward_functions(\n",
            "\u001b[0;32m/usr/local/lib/python3.9/site-packages/tensorflow/python/eager/function.py\u001b[0m in \u001b[0;36mcall\u001b[0;34m(self, ctx, args, cancellation_manager)\u001b[0m\n\u001b[1;32m    589\u001b[0m       \u001b[0;32mwith\u001b[0m \u001b[0m_InterpolateFunctionError\u001b[0m\u001b[0;34m(\u001b[0m\u001b[0mself\u001b[0m\u001b[0;34m)\u001b[0m\u001b[0;34m:\u001b[0m\u001b[0;34m\u001b[0m\u001b[0;34m\u001b[0m\u001b[0m\n\u001b[1;32m    590\u001b[0m         \u001b[0;32mif\u001b[0m \u001b[0mcancellation_manager\u001b[0m \u001b[0;32mis\u001b[0m \u001b[0;32mNone\u001b[0m\u001b[0;34m:\u001b[0m\u001b[0;34m\u001b[0m\u001b[0;34m\u001b[0m\u001b[0m\n\u001b[0;32m--> 591\u001b[0;31m           outputs = execute.execute(\n\u001b[0m\u001b[1;32m    592\u001b[0m               \u001b[0mstr\u001b[0m\u001b[0;34m(\u001b[0m\u001b[0mself\u001b[0m\u001b[0;34m.\u001b[0m\u001b[0msignature\u001b[0m\u001b[0;34m.\u001b[0m\u001b[0mname\u001b[0m\u001b[0;34m)\u001b[0m\u001b[0;34m,\u001b[0m\u001b[0;34m\u001b[0m\u001b[0;34m\u001b[0m\u001b[0m\n\u001b[1;32m    593\u001b[0m               \u001b[0mnum_outputs\u001b[0m\u001b[0;34m=\u001b[0m\u001b[0mself\u001b[0m\u001b[0;34m.\u001b[0m\u001b[0m_num_outputs\u001b[0m\u001b[0;34m,\u001b[0m\u001b[0;34m\u001b[0m\u001b[0;34m\u001b[0m\u001b[0m\n",
            "\u001b[0;32m/usr/local/lib/python3.9/site-packages/tensorflow/python/eager/execute.py\u001b[0m in \u001b[0;36mquick_execute\u001b[0;34m(op_name, num_outputs, inputs, attrs, ctx, name)\u001b[0m\n\u001b[1;32m     57\u001b[0m   \u001b[0;32mtry\u001b[0m\u001b[0;34m:\u001b[0m\u001b[0;34m\u001b[0m\u001b[0;34m\u001b[0m\u001b[0m\n\u001b[1;32m     58\u001b[0m     \u001b[0mctx\u001b[0m\u001b[0;34m.\u001b[0m\u001b[0mensure_initialized\u001b[0m\u001b[0;34m(\u001b[0m\u001b[0;34m)\u001b[0m\u001b[0;34m\u001b[0m\u001b[0;34m\u001b[0m\u001b[0m\n\u001b[0;32m---> 59\u001b[0;31m     tensors = pywrap_tfe.TFE_Py_Execute(ctx._handle, device_name, op_name,\n\u001b[0m\u001b[1;32m     60\u001b[0m                                         inputs, attrs, num_outputs)\n\u001b[1;32m     61\u001b[0m   \u001b[0;32mexcept\u001b[0m \u001b[0mcore\u001b[0m\u001b[0;34m.\u001b[0m\u001b[0m_NotOkStatusException\u001b[0m \u001b[0;32mas\u001b[0m \u001b[0me\u001b[0m\u001b[0;34m:\u001b[0m\u001b[0;34m\u001b[0m\u001b[0;34m\u001b[0m\u001b[0m\n",
            "\u001b[0;31mKeyboardInterrupt\u001b[0m: "
          ]
        }
      ]
    },
    {
      "cell_type": "markdown",
      "metadata": {
        "id": "WOSmFvpLYliF"
      },
      "source": [
        "### Run evaluation metric"
      ]
    },
    {
      "cell_type": "code",
      "metadata": {
        "id": "xl0hXBvYYkhg"
      },
      "source": [
        "import sys\n",
        "sys.path.insert(0, './datalab-2021-cup2-object-detection/evaluate')"
      ],
      "execution_count": null,
      "outputs": []
    },
    {
      "cell_type": "code",
      "metadata": {
        "id": "N0FXJPI7pTX_",
        "outputId": "4bf5152b-4519-427e-f8a6-6a8c83a753bf"
      },
      "source": [
        "import evaluate\n",
        "import os\n",
        "os.chdir('./datalab-2021-cup2-object-detection')\n",
        "#evaluate.evaluate(\"input prediction file name\", \"desire output csv file name\")\n",
        "evaluate.evaluate('../test_prediction.txt', './output_file.csv')\n",
        "os.chdir('..')"
      ],
      "execution_count": null,
      "outputs": [
        {
          "name": "stdout",
          "output_type": "stream",
          "text": [
            "End Evalutation\n"
          ]
        }
      ]
    },
    {
      "cell_type": "markdown",
      "metadata": {
        "id": "WrwA-9o5YqzU"
      },
      "source": [
        "## Visualization"
      ]
    },
    {
      "cell_type": "code",
      "metadata": {
        "id": "KfPODME7YsGN"
      },
      "source": [
        "import matplotlib.pyplot as plt\n",
        "import cv2"
      ],
      "execution_count": null,
      "outputs": []
    },
    {
      "cell_type": "code",
      "metadata": {
        "id": "9iuuz8tM46oh"
      },
      "source": [
        "def draw_rect(im, cords, color=(0,255,255)):\n",
        "    \n",
        "    # im = im.copy()\n",
        "    \n",
        "    cords = cords[:,:4]\n",
        "    cords = cords.reshape(-1,4)\n",
        "    if not color:\n",
        "        color = [255,255,255]\n",
        "    for cord in cords:\n",
        "        \n",
        "        pt1, pt2 = (cord[0], cord[1]) , (cord[2], cord[3])\n",
        "                \n",
        "        pt1 = int(pt1[0]), int(pt1[1])\n",
        "        pt2 = int(pt2[0]), int(pt2[1])\n",
        "    \n",
        "        cv2.rectangle(im, pt1, pt2, color, 2)"
      ],
      "execution_count": null,
      "outputs": []
    },
    {
      "cell_type": "code",
      "metadata": {
        "colab": {
          "base_uri": "https://localhost:8080/",
          "height": 269
        },
        "id": "2qQK_N-mYtjP",
        "outputId": "76a91685-d331-4fd0-94e9-6194109fa1f9"
      },
      "source": [
        "np_img = cv2.imread('./datalab-2021-cup2-object-detection/VOCdevkit_test/VOC2007/JPEGImages/000049.jpg')\n",
        "# np_img = cv2.imread('./datalab-2021-cup2-object-detection/VOCdevkit_train/VOC2007/JPEGImages/000005.jpg')\n",
        "resized_img = cv2.resize(np_img, (IMAGE_SIZE, IMAGE_SIZE))\n",
        "np_img = cv2.cvtColor(resized_img, cv2.COLOR_BGR2RGB)\n",
        "resized_img = np_img\n",
        "np_img = np_img.astype(np.float32)\n",
        "# np_img = np_img / 255.0 * 2 - 1\n",
        "np_img = np_img / 255.0\n",
        "# np_img = tf.keras.applications.vgg16.preprocess_input(np_img)\n",
        "np_img = np.reshape(np_img, (1, IMAGE_SIZE, IMAGE_SIZE, 3))\n",
        "\n",
        "y_pred = YOLO(np_img, training=False)\n",
        "# predicts_dict = process_predicts(np_img, prediction_step(np_img), thresh=0.05)\n",
        "predicts_dict = process_predicts(y_pred, thresh=0.05)\n",
        "print(predicts_dict)\n",
        "predicts_dict = non_max_suppress(predicts_dict, threshold=0.1)\n",
        "print(predicts_dict)\n",
        "for class_name in predicts_dict.keys():\n",
        "    box = np.array(predicts_dict[class_name])\n",
        "    draw_rect(resized_img, box)\n",
        "\n",
        "# xmin, ymin, xmax, ymax, class_num, conf = process_outputs(y_pred)\n",
        "# cv2.rectangle(resized_img, (int(xmin), int(ymin)), (int(xmax), int(ymax)), (0, 255, 255), 3)\n",
        "# cv2.putText(resized_img, class_name, (0, 200), 2, 1.5, (0, 255, 255), 2)\n",
        "# print(bounding_boxes)\n",
        "# draw_rect(resized_img, bounding_boxes[:,:4])\n",
        "plt.imshow(resized_img)\n",
        "plt.show()"
      ],
      "execution_count": null,
      "outputs": [
        {
          "name": "stdout",
          "output_type": "stream",
          "text": [
            "{7: [[97, 82, 215, 252, 0.09703345], [159, 81, 293, 270, 0.15325952], [229, 103, 342, 239, 0.14527997], [71, 82, 368, 351, 0.3260151], [187, 183, 375, 361, 0.08954312]]}\n",
            "{7: [[71.0, 82.0, 368.0, 351.0, 0.3260151147842407]]}\n"
          ]
        },
        {
          "data": {
            "image/png": "[encoded data removed]",
            "text/plain": [
              "<Figure size 432x288 with 1 Axes>"
            ]
          },
          "metadata": {
            "needs_background": "light"
          },
          "output_type": "display_data"
        }
      ]
    },
    {
      "cell_type": "markdown",
      "metadata": {
        "id": "YINyiWmt5cEt"
      },
      "source": [
        "COMPETITION 02 REPORT\n",
        "\n",
        "A. What kind of models we have tried and how did they work?\n",
        "*   Initially, we used the YOLO model provided by TA. The results were not satisfying as the loss was high.\n",
        "*  We tried to build upon YOLO v2 by adding batch normalization and full CNN. Consequently, the loss could drop significantly compared to the initial one. \n",
        "\n",
        "B. Anything we've done and want to tell you?\n",
        "*   We replaced the the initial layers of YOLO to a pretrained model (VGG16).\n",
        "*   Modified the given code from TA to detect multiple objects in an image.\n",
        "\n",
        "C. What problems occurred and how did you solve them?\n",
        "*   Long training time.\n",
        "*   We leveraged fully convolutional layer to reduce the parameters significantly.\n",
        "\n"
      ]
    }
  ]
}